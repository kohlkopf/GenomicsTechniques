{
 "cells": [
  {
   "cell_type": "markdown",
   "metadata": {},
   "source": [
    "# Part A\n",
    "### Ensure the pipets are calibrated gravimetrically\n",
    "---"
   ]
  },
  {
   "cell_type": "markdown",
   "metadata": {
    "heading_collapsed": true
   },
   "source": [
    "## Materials/Equipment"
   ]
  },
  {
   "cell_type": "markdown",
   "metadata": {
    "hidden": true
   },
   "source": [
    "+ Water\n",
    "+ Weigh boats\n",
    "+ p2, p20, p200, p1000 pipetters\n",
    "+ Balance"
   ]
  },
  {
   "cell_type": "markdown",
   "metadata": {},
   "source": [
    "## Procedure"
   ]
  },
  {
   "cell_type": "markdown",
   "metadata": {},
   "source": [
    "1. Set the pipette to 50% its maximum test volume.\n",
    "2. Pipet this volume of water to a weigh boat.\n",
    "3. Tare the weigh boat on the balance. Repeat this measurement three times. Tare between weighings.\n",
    "3. Record these weights in a table.\n",
    "5. Repeat steps 1-4 but with 10% the maximum volume of the pipette.\n",
    "6. Repeat stepes 1-5 for each pipette.\n",
    "7. Construct a table with observed weights, average weights, expected volumes, calculated (actual) volumes, standard deviation, and %error"
   ]
  },
  {
   "cell_type": "markdown",
   "metadata": {},
   "source": [
    "## Results"
   ]
  },
  {
   "cell_type": "markdown",
   "metadata": {},
   "source": [
    "$\n",
    "\\begin{array}{ccccccccc} \\hline\n",
    "p2 &1(g) &2(g) &3(g) &Avg.\\ M(g) &Exp.\\ V(\\mu L) &Act.\\ V(\\mu L) &Stdev &\\%Err.\\\\ \\hline\n",
    "10\\% &0.0003 &0.0002 &0.0003 &0.0003 &0.100 &0.300 &0.0000 &200\\\\ \\hline\n",
    "50\\% &0.0011 &0.0012 &0.0010 &0.0011 &1.000 &1.100 &0.0000 &10\\\\ \\hline\n",
    "\\end{array}  \n",
    "$  \n",
    "\n",
    "$\n",
    "\\begin{array}{ccccccccc} \\hline\n",
    "p20 &1(g) &2(g) &3(g) &Avg.\\ M(g) &Exp.\\ V(\\mu L) &Act.\\ V(\\mu L) &Stdev &\\%Err.\\\\ \\hline\n",
    "10\\% &0.0022 &0.0022 &0.0022 &0.0022 &2.00 &2.20 &0.0000 &10\\\\ \\hline\n",
    "50\\% &0.0096 &0.0096 &0.0096 &0.0096 &10.00 &9.600 &0.0000 &4.0\\\\ \\hline\n",
    "\\end{array}  \n",
    "$  \n",
    "\n",
    "$\n",
    "\\begin{array}{ccccccccc} \\hline\n",
    "p200 &1(g) &2(g) &3(g) &Avg.\\ M(g) &Exp.\\ V(\\mu L) &Act.\\ V(\\mu L) &Stdev &\\%Err.\\\\ \\hline\n",
    "10\\% &0.0201 &0.0205 &0.0205 &0.0204 &20.0 &20.40 &0.0002 &2.0\\\\ \\hline\n",
    "50\\% &0.0994 &0.0991 &0.0989 &0.0991 &100.0 &99.10 &0.0002 &0.90\\\\ \\hline\n",
    "\\end{array}  \n",
    "$  \n",
    "\n",
    "$\n",
    "\\begin{array}{ccccccccc} \\hline\n",
    "p1000 &1(g) &2(g) &3(g) &Avg.\\ M(g) &Exp.\\ V(\\mu L) &Act.\\ V(\\mu L) &Stdev &\\%Err.\\\\ \\hline\n",
    "10\\% &0.0990 &0.0994 &0.0993 &0.0992 &100.0 &99.20 &0.0002 &0.80\\\\ \\hline\n",
    "50\\% &0.4969 &0.5054 &0.4971 &0.4998 &500.0 &499.8 &0.0040 &0.04\\\\ \\hline\n",
    "\\end{array}  \n",
    "$  \n"
   ]
  },
  {
   "cell_type": "markdown",
   "metadata": {
    "heading_collapsed": true
   },
   "source": [
    "## Calculations"
   ]
  },
  {
   "cell_type": "code",
   "execution_count": 10,
   "metadata": {
    "hidden": true
   },
   "outputs": [],
   "source": [
    "import numpy as np\n",
    "\n",
    "p2min = [0.0003, 0.0002, 0.0003]\n",
    "p2max = [0.0011, 0.0012, 0.0010]\n",
    "\n",
    "p20min = [0.0022, 0.0022, 0.0022]\n",
    "p20max = [0.0096, 0.0096, 0.0096]\n",
    "\n",
    "p200min = [0.0201, 0.0205, 0.0205]\n",
    "p200max = [0.0994, 0.0991, 0.0989]\n",
    "\n",
    "p1000min = [0.0990, 0.0994, 0.0993]\n",
    "p1000max = [0.4969, 0.5054, 0.4971]"
   ]
  },
  {
   "cell_type": "code",
   "execution_count": 15,
   "metadata": {
    "hidden": true
   },
   "outputs": [
    {
     "name": "stdout",
     "output_type": "stream",
     "text": [
      "Average weight\n",
      "p2 min:  0.000266666666667\n",
      "p2 max:  0.0011\n",
      "p20 min:  0.0022\n",
      "p20 max:  0.0096\n",
      "p200 min:  0.0203666666667\n",
      "p200 max:  0.0991333333333\n",
      "p1000 min:  0.0992333333333\n",
      "p1000 max:  0.4998\n"
     ]
    }
   ],
   "source": [
    "print(\"Average weight\")\n",
    "print(\"p2 min: \", np.average(p2min))\n",
    "print(\"p2 max: \", np.average(p2max))\n",
    "print(\"p20 min: \", np.average(p20min))\n",
    "print(\"p20 max: \", np.average(p20max))\n",
    "print(\"p200 min: \", np.average(p200min))\n",
    "print(\"p200 max: \", np.average(p200max))\n",
    "print(\"p1000 min: \", np.average(p1000min))\n",
    "print(\"p1000 max: \", np.average(p1000max))"
   ]
  },
  {
   "cell_type": "code",
   "execution_count": 14,
   "metadata": {
    "hidden": true
   },
   "outputs": [
    {
     "name": "stdout",
     "output_type": "stream",
     "text": [
      "Standard deviation\n",
      "p2 min:  4.71404520791e-05\n",
      "p2 max:  8.16496580928e-05\n",
      "p20 min:  0.0\n",
      "p20 max:  0.0\n",
      "p200 min:  0.000188561808316\n",
      "p200 max:  0.000205480466766\n",
      "p1000 min:  0.00016996731712\n",
      "p1000 max:  0.00396063967897\n"
     ]
    }
   ],
   "source": [
    "print(\"Standard deviation\")\n",
    "print(\"p2 min: \", np.std(p2min))\n",
    "print(\"p2 max: \", np.std(p2max))\n",
    "print(\"p20 min: \", np.std(p20min))\n",
    "print(\"p20 max: \", np.std(p20max))\n",
    "print(\"p200 min: \", np.std(p200min))\n",
    "print(\"p200 max: \", np.std(p200max))\n",
    "print(\"p1000 min: \", np.std(p1000min))\n",
    "print(\"p1000 max: \", np.std(p1000max))"
   ]
  },
  {
   "cell_type": "code",
   "execution_count": 31,
   "metadata": {
    "hidden": true
   },
   "outputs": [
    {
     "name": "stdout",
     "output_type": "stream",
     "text": [
      "Standard error (abs((expected-actual)/expected)*100)\n",
      "199.99999999999997\n",
      "10.000000000000009\n",
      "10.000000000000009\n",
      "4.0000000000000036\n",
      "1.9999999999999927\n",
      "0.9000000000000057\n",
      "0.7999999999999973\n",
      "0.039999999999997725\n"
     ]
    }
   ],
   "source": [
    "print(\"Standard error (abs((expected-actual)/expected)*100)\")\n",
    "print(abs(((.1-.3)/.1)*100))\n",
    "print(abs(((1-1.1)/1)*100))\n",
    "print(abs(((2-2.2)/2)*100))\n",
    "print(abs(((10-9.6)/10)*100))\n",
    "print(abs(((20-20.4)/20)*100))\n",
    "print(abs(((100-99.1)/100)*100))\n",
    "print(abs(((100-99.2)/100)*100))\n",
    "print(abs(((500-499.8)/500)*100))"
   ]
  },
  {
   "cell_type": "markdown",
   "metadata": {},
   "source": [
    "# Part B\n",
    "### Does viscosity have an effect on my pipetting precision? \n",
    "---"
   ]
  },
  {
   "cell_type": "markdown",
   "metadata": {},
   "source": [
    "## Materials/Equipment"
   ]
  },
  {
   "cell_type": "markdown",
   "metadata": {},
   "source": [
    "+ Red  viscous solution\n",
    "+ Blue viscous solution\n",
    "+ Weigh boats\n",
    "+ p2, p20, p200, p1000 pipetters\n",
    "+ Balance"
   ]
  },
  {
   "cell_type": "markdown",
   "metadata": {},
   "source": [
    "## Procedure "
   ]
  },
  {
   "cell_type": "markdown",
   "metadata": {},
   "source": [
    "1. Set the pipette to 0.5$\\mu $L.\n",
    "2. Pipet this volume of the red solution to a weigh boat.\n",
    "3. Tare the weigh boat on the balance. Repeat this measurement three times. Tare between weighings.\n",
    "3. Record these weights in a table.\n",
    "4. Compare the results with the predicted weights.\n",
    "5. Repeat steps 1-4 but with 5.00$\\mu $L.\n",
    "6. Repeat steps 1-5 with the blue solution rather than the red solution."
   ]
  },
  {
   "cell_type": "markdown",
   "metadata": {},
   "source": [
    "## Results"
   ]
  },
  {
   "cell_type": "markdown",
   "metadata": {},
   "source": [
    "Red\n",
    "$\n",
    "\\begin{array}{ccccccccc} \\hline\n",
    "p2 &1(g) &2(g) &3(g) &Avg.\\ M(g) &Stdev\\\\ \\hline\n",
    "0.5(\\mu L) &0.0010 &0.0010 &0.0007 &0.0009 &0.0003\\\\ \\hline\n",
    "5.00(\\mu L) &0.0060 &0.0065 &0.0061 &0.0062 &0.0002\\\\ \\hline\n",
    "\\end{array}  \n",
    "$  \n",
    "\n",
    "Blue\n",
    "$\n",
    "\\begin{array}{ccccccccc} \\hline\n",
    "p2 &1(g) &2(g) &3(g) &Avg.\\ M(g) &Stdev\\\\ \\hline\n",
    "0.5(\\mu L) &0.0008 &0.0007 &0.0007 &0.0007 &0.0000\\\\ \\hline\n",
    "5.00(\\mu L) &0.0059 &0.0058 &0.0060 &0.0059 &0.0000\\\\ \\hline\n",
    "\\end{array}  \n",
    "$  \n"
   ]
  },
  {
   "cell_type": "markdown",
   "metadata": {},
   "source": [
    "The viscosity of the solution had no noticeable effect on my pipetting precision."
   ]
  },
  {
   "cell_type": "markdown",
   "metadata": {
    "heading_collapsed": true
   },
   "source": [
    "## Calculations"
   ]
  },
  {
   "cell_type": "code",
   "execution_count": 36,
   "metadata": {
    "collapsed": true,
    "hidden": true
   },
   "outputs": [],
   "source": [
    "import numpy as np\n",
    "\n",
    "redMin = [0.0010, 0.0010, 0.0007]\n",
    "redMax = [0.0060, 0.0065, 0.0061]\n",
    "\n",
    "blueMin = [0.0008, 0.0007, 0.0007]\n",
    "blueMax = [0.0059, 0.0058, 0.0060]"
   ]
  },
  {
   "cell_type": "code",
   "execution_count": 37,
   "metadata": {
    "hidden": true
   },
   "outputs": [
    {
     "name": "stdout",
     "output_type": "stream",
     "text": [
      "Average\n",
      "red min:  0.0009\n",
      "red max:  0.0062\n",
      "blue min:  0.000733333333333\n",
      "blue max:  0.0059\n"
     ]
    }
   ],
   "source": [
    "print(\"Average\")\n",
    "print(\"red min: \", np.average(redMin))\n",
    "print(\"red max: \", np.average(redMax))\n",
    "print(\"blue min: \", np.average(blueMin))\n",
    "print(\"blue max: \", np.average(blueMax))"
   ]
  },
  {
   "cell_type": "code",
   "execution_count": 38,
   "metadata": {
    "hidden": true
   },
   "outputs": [
    {
     "name": "stdout",
     "output_type": "stream",
     "text": [
      "Standard deviation\n",
      "red min:  0.000141421356237\n",
      "red max:  0.000216024689947\n",
      "blue min:  4.71404520791e-05\n",
      "blue max:  8.16496580928e-05\n"
     ]
    }
   ],
   "source": [
    "print(\"Standard deviation\")\n",
    "print(\"red min: \", np.std(redMin))\n",
    "print(\"red max: \", np.std(redMax))\n",
    "print(\"blue min: \", np.std(blueMin))\n",
    "print(\"blue max: \", np.std(blueMax))\n"
   ]
  },
  {
   "cell_type": "markdown",
   "metadata": {},
   "source": [
    "# Part C\n",
    "### How accurate am I with pipetting dilutions?\n",
    "---"
   ]
  },
  {
   "cell_type": "markdown",
   "metadata": {
    "heading_collapsed": true
   },
   "source": [
    "## Materials/Equipment"
   ]
  },
  {
   "cell_type": "markdown",
   "metadata": {
    "hidden": true
   },
   "source": [
    "+ Buffer\n",
    "+ Reagent\n",
    "+ S1\n",
    "+ S2\n",
    "+ RNA\n",
    "+ Water\n",
    "+ p2, p20, p200, p1000 pipetters\n",
    "+ Qubit 1.0, 2.0"
   ]
  },
  {
   "cell_type": "markdown",
   "metadata": {},
   "source": [
    "## Procedure"
   ]
  },
  {
   "cell_type": "markdown",
   "metadata": {},
   "source": [
    "### Prepare working solution\n",
    "Make a 1:200 working solution of buffer and reagent. To make 1600uL of working solution add 8uL of reagent to 1592uL of buffer. \n",
    "\n",
    "### Calibrate the machine  \n",
    "1. Add 10uL of the vial labelled S1(the standard) to 190 uL of working solution. \n",
    "2. Repeat with the vial labelled S2.\n",
    "3. Mix with the vortex.\n",
    "4. Let rest for two minutes.\n",
    "5. Place each vial in the Qubit port and complete the calibration procedure. \n",
    "\n",
    "### Determine the RNA Concentration  \n",
    "1. Add 2uL of RNA to 198uL of working solution.\n",
    "2. Using the Qubit determine the concentration of RNA in the sample.\n",
    "3. Calculate the original concentration of the RNA\n",
    "\n",
    "### Conduct dilutions  \n",
    "1. Prepare to make four dilutions in duplicate, with estimated RNA concentrations of 100, 60, 40, and 20 ng/mL\n",
    "2. Add 198uL of working solution to each dilution vial.\n",
    "3. Add RNA and water to the working solution in volumes such that the ending volume is 200uL (see Calculations).\n",
    "4. Conduct the fluorometry on two machines, the Qubit 1.0 and the Qubit 2.0."
   ]
  },
  {
   "cell_type": "markdown",
   "metadata": {},
   "source": [
    "## Results"
   ]
  },
  {
   "cell_type": "markdown",
   "metadata": {},
   "source": [
    "**Original RNA Concentration: 11.4$\\mu $g/mL**"
   ]
  },
  {
   "cell_type": "markdown",
   "metadata": {},
   "source": [
    "**Detection range of Qubit 1.0 and 2.0: The range is dynamic and based on the standards. It is 5 orders of magnitude relative to the standards. 20ng was our lowest limit.**"
   ]
  },
  {
   "cell_type": "markdown",
   "metadata": {},
   "source": [
    "** *Dilution Results: Qubit 1.0 (ng/mL)* **  \n",
    "$\n",
    "\\begin{array}{rccccc} \\hline\n",
    "Expected &100 &60 &40 &30 &20\\\\ \\hline\n",
    "1st &98.1 &65.5 &61.5 &54.1 &Low & & &\\\\ \\hline\n",
    "2nd &96.1 &61.6 &43.7 &38.1 &Low & & &\\\\ \\hline\n",
    "\\end{array}  \n",
    "$  \n"
   ]
  },
  {
   "cell_type": "markdown",
   "metadata": {},
   "source": [
    "** *Dilution Results: Qubit 2.0 (ng/mL)* **  \n",
    "$\n",
    "\\begin{array}{rccccc} \\hline\n",
    "Expected &100 &60 &40 &30 &20\\\\ \\hline\n",
    "1st &96.0 &72.6 &62.1 &41.9 &20.0 & & &\\\\ \\hline\n",
    "2nd &99.8 &62.8 &46.1 &53.4 &Low & & &\\\\ \\hline\n",
    "\\end{array}  \n",
    "$ "
   ]
  },
  {
   "cell_type": "code",
   "execution_count": 42,
   "metadata": {
    "scrolled": true
   },
   "outputs": [
    {
     "data": {
      "image/png": "[encoded data removed]",
      "text/plain": [
       "<matplotlib.figure.Figure at 0x10a95f2e8>"
      ]
     },
     "metadata": {},
     "output_type": "display_data"
    }
   ],
   "source": [
    "% matplotlib inline\n",
    "import matplotlib.pyplot as plt\n",
    "\n",
    "y0 = (98.1, 65.5, 61.5, 54.1, 0)\n",
    "y1 = (96.1, 61.6, 43.7, 38.1, 0)\n",
    "x = (100, 60, 40, 30, 20)\n",
    "\n",
    "plt.xlabel(\"Expected Concentration(ng(mL))\")\n",
    "plt.ylabel(\"Measured Concentration(ng/mL)\")\n",
    "plt.title(\"Dilution Results on Qubit 1.0\")\n",
    "plt.plot(x,y0)\n",
    "plt.plot(x,y1)\n",
    "plt.grid(b=True, linestyle='--', alpha=0.5)\n"
   ]
  },
  {
   "cell_type": "code",
   "execution_count": 50,
   "metadata": {},
   "outputs": [
    {
     "data": {
      "image/png": "[encoded data removed]",
      "text/plain": [
       "<matplotlib.figure.Figure at 0x10ae06240>"
      ]
     },
     "metadata": {},
     "output_type": "display_data"
    }
   ],
   "source": [
    "% matplotlib inline\n",
    "import matplotlib.pyplot as plt\n",
    "\n",
    "y0 = (99.8, 72.6, 62.1, 41.9, 20)\n",
    "y1 = (96.0, 62.8, 46.1, 53.4, 0)\n",
    "x = (100, 60, 40, 30, 20)\n",
    "\n",
    "plt.xlabel(\"Expected Concentration(ng(mL))\")\n",
    "plt.ylabel(\"Measured Concentration(ng/mL)\")\n",
    "plt.title(\"Dilution Results on Qubit 2.0\")\n",
    "plt.plot(x,y0)\n",
    "plt.plot(x,y1)\n",
    "plt.grid(b=True, linestyle='--', alpha=0.5)"
   ]
  },
  {
   "cell_type": "markdown",
   "metadata": {
    "heading_collapsed": true
   },
   "source": [
    "## Calculations"
   ]
  },
  {
   "cell_type": "markdown",
   "metadata": {
    "hidden": true
   },
   "source": [
    "### Qubit 1.0 machine"
   ]
  },
  {
   "cell_type": "code",
   "execution_count": 20,
   "metadata": {
    "collapsed": true,
    "hidden": true
   },
   "outputs": [],
   "source": [
    "conc = 114  # original concentration"
   ]
  },
  {
   "cell_type": "code",
   "execution_count": 56,
   "metadata": {
    "hidden": true,
    "scrolled": false
   },
   "outputs": [
    {
     "name": "stdout",
     "output_type": "stream",
     "text": [
      "1.7543859649122806 RNA\n",
      "0.2456140350877194 Water\n",
      "Readings--  1: 98.1 2: 96.1\n"
     ]
    }
   ],
   "source": [
    "# Goal: 100 ng/mL\n",
    "print((100/conc)*2, \"RNA\")\n",
    "print(abs(2-(100/conc)*2), \"Water\")\n",
    "print(\"Readings-- \",\"1:\",98.1 , \"2:\",96.1 )\n"
   ]
  },
  {
   "cell_type": "code",
   "execution_count": 57,
   "metadata": {
    "hidden": true,
    "scrolled": true
   },
   "outputs": [
    {
     "name": "stdout",
     "output_type": "stream",
     "text": [
      "1.0526315789473684 RNA\n",
      "0.9473684210526316 Water\n",
      "Readings--  1: 65.5 2: 61.6\n"
     ]
    }
   ],
   "source": [
    "# Goal: 60 ng/mL\n",
    "print((60/conc)*2, \"RNA\")\n",
    "print(abs(2-(60/conc)*2), \"Water\")\n",
    "print(\"Readings-- \",\"1:\",65.5 , \"2:\",61.6 )"
   ]
  },
  {
   "cell_type": "code",
   "execution_count": 58,
   "metadata": {
    "hidden": true
   },
   "outputs": [
    {
     "name": "stdout",
     "output_type": "stream",
     "text": [
      "0.7017543859649122 RNA\n",
      "1.2982456140350878 Water\n",
      "Readings--  1: 61.5 2: 43.7\n"
     ]
    }
   ],
   "source": [
    "# Goal: 40 ng/mL\n",
    "print((40/conc)*2, \"RNA\")\n",
    "print(abs(2-(40/conc)*2), \"Water\")\n",
    "print(\"Readings-- \",\"1:\",61.5 , \"2:\",43.7 )"
   ]
  },
  {
   "cell_type": "code",
   "execution_count": 59,
   "metadata": {
    "hidden": true
   },
   "outputs": [
    {
     "name": "stdout",
     "output_type": "stream",
     "text": [
      "0.3508771929824561 RNA\n",
      "1.6491228070175439 Water\n",
      "Readings--  1: Too low 2: Too Low\n"
     ]
    }
   ],
   "source": [
    "# Goal: 20 ng/mL\n",
    "print((20/OG)*2, \"RNA\")\n",
    "print(abs(2-(20/OG)*2), \"Water\")\n",
    "print(\"Readings-- \",\"1:\",\"Too low\" , \"2:\",\"Too Low\" )"
   ]
  },
  {
   "cell_type": "code",
   "execution_count": 60,
   "metadata": {
    "hidden": true
   },
   "outputs": [
    {
     "name": "stdout",
     "output_type": "stream",
     "text": [
      "0.5263157894736842 RNA\n",
      "1.473684210526316 Water\n",
      "Readings--  1: 54.1 2: 38.1\n"
     ]
    }
   ],
   "source": [
    "# Goal: 30 ng/mL\n",
    "print((30/conc)*2, \"RNA\")\n",
    "print(abs(2-(30/conc)*2), \"Water\")\n",
    "print(\"Readings-- \",\"1:\",54.1 , \"2:\",38.1 )"
   ]
  },
  {
   "cell_type": "markdown",
   "metadata": {
    "hidden": true
   },
   "source": [
    "### Qubit 2.0 machine"
   ]
  },
  {
   "cell_type": "code",
   "execution_count": 61,
   "metadata": {
    "hidden": true,
    "scrolled": false
   },
   "outputs": [
    {
     "name": "stdout",
     "output_type": "stream",
     "text": [
      "1.7543859649122806 RNA\n",
      "0.2456140350877194 Water\n",
      "Readings--  1: 99.8 2: 96.0\n"
     ]
    }
   ],
   "source": [
    "# Goal: 100 ng/mL\n",
    "print((100/conc)*2, \"RNA\")\n",
    "print(abs(2-(100/conc)*2), \"Water\")\n",
    "print(\"Readings-- \", \"1:\",99.8 , \"2:\",96.0 )"
   ]
  },
  {
   "cell_type": "code",
   "execution_count": 62,
   "metadata": {
    "hidden": true,
    "scrolled": true
   },
   "outputs": [
    {
     "name": "stdout",
     "output_type": "stream",
     "text": [
      "1.0526315789473684 RNA\n",
      "0.9473684210526316 Water\n",
      "Readings--  1: 72.6 2: 62.8\n"
     ]
    }
   ],
   "source": [
    "# Goal: 60 ng/mL\n",
    "print((60/conc)*2, \"RNA\")\n",
    "print(abs(2-(60/conc)*2), \"Water\")\n",
    "print(\"Readings-- \",\"1:\",72.6 , \"2:\",62.8 )"
   ]
  },
  {
   "cell_type": "code",
   "execution_count": 63,
   "metadata": {
    "hidden": true
   },
   "outputs": [
    {
     "name": "stdout",
     "output_type": "stream",
     "text": [
      "0.7017543859649122 RNA\n",
      "1.2982456140350878 Water\n",
      "Readings--  1: 62.1 2: 46.1\n"
     ]
    }
   ],
   "source": [
    "# Goal: 40 ng/mL\n",
    "print((40/conc)*2, \"RNA\")\n",
    "print(abs(2-(40/conc)*2), \"Water\")\n",
    "print(\"Readings-- \",\"1:\",62.1 , \"2:\",46.1 )"
   ]
  },
  {
   "cell_type": "code",
   "execution_count": 64,
   "metadata": {
    "hidden": true
   },
   "outputs": [
    {
     "name": "stdout",
     "output_type": "stream",
     "text": [
      "0.3508771929824561 RNA\n",
      "1.6491228070175439 Water\n",
      "Readings--  1: 20.0 2: Too Low\n"
     ]
    }
   ],
   "source": [
    "# Goal: 20 ng/mL\n",
    "print((20/conc)*2, \"RNA\")\n",
    "print(abs(2-(20/conc)*2), \"Water\")\n",
    "print(\"Readings-- \",\"1:\",\"20.0\" , \"2:\",\"Too Low\" )"
   ]
  },
  {
   "cell_type": "code",
   "execution_count": 65,
   "metadata": {
    "hidden": true,
    "scrolled": true
   },
   "outputs": [
    {
     "name": "stdout",
     "output_type": "stream",
     "text": [
      "0.5263157894736842 RNA\n",
      "1.473684210526316 Water\n",
      "Readings--  1: 41.9 2: 53.4\n"
     ]
    }
   ],
   "source": [
    "# Goal: 30 ng/mL\n",
    "print((30/conc)*2, \"RNA\")\n",
    "print(abs(2-(30/conc)*2), \"Water\")\n",
    "print(\"Readings-- \",\"1:\",41.9 , \"2:\",53.4 )"
   ]
  },
  {
   "cell_type": "markdown",
   "metadata": {},
   "source": [
    "## Notes  "
   ]
  },
  {
   "cell_type": "markdown",
   "metadata": {
    "collapsed": true
   },
   "source": [
    "We designed our dilutions around the misconception that the detection range of the Qubit machine was 5-100ng. As per the manual, the range is dynamic and set to 5 orders of magnitude greater than the standards provided. When we put our expected 20ng samples in we were met with a message that the concentrations were below the machine's detection threshhold of 20ng. To remedy this we made one more dilution with an expected concentraion of 30ng."
   ]
  },
  {
   "cell_type": "code",
   "execution_count": null,
   "metadata": {
    "collapsed": true
   },
   "outputs": [],
   "source": []
  }
 ],
 "metadata": {
  "kernelspec": {
   "display_name": "Python 3",
   "language": "python",
   "name": "python3"
  },
  "language_info": {
   "codemirror_mode": {
    "name": "ipython",
    "version": 3
   },
   "file_extension": ".py",
   "mimetype": "text/x-python",
   "name": "python",
   "nbconvert_exporter": "python",
   "pygments_lexer": "ipython3",
   "version": "3.6.1"
  },
  "toc": {
   "colors": {
    "hover_highlight": "#DAA520",
    "navigate_num": "#000000",
    "navigate_text": "#333333",
    "running_highlight": "#FF0000",
    "selected_highlight": "#FFD700",
    "sidebar_border": "#EEEEEE",
    "wrapper_background": "#FFFFFF"
   },
   "moveMenuLeft": true,
   "nav_menu": {
    "height": "408px",
    "width": "252px"
   },
   "navigate_menu": true,
   "number_sections": true,
   "sideBar": true,
   "threshold": 4,
   "toc_cell": false,
   "toc_position": {
    "height": "674px",
    "left": "0px",
    "right": "1148px",
    "top": "106px",
    "width": "248px"
   },
   "toc_section_display": "block",
   "toc_window_display": true,
   "widenNotebook": false
  }
 },
 "nbformat": 4,
 "nbformat_minor": 2
}
