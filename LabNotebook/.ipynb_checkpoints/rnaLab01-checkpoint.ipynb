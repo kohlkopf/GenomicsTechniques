{
 "cells": [
  {
   "cell_type": "markdown",
   "metadata": {},
   "source": [
    "# Part A\n",
    "### Extract RNA from cell pellet\n",
    "---"
   ]
  },
  {
   "cell_type": "markdown",
   "metadata": {},
   "source": [
    "## Materials/Equipment"
   ]
  },
  {
   "cell_type": "markdown",
   "metadata": {},
   "source": [
    "+ Trizol\n",
    "+ RNA pellet\n",
    "+ chloroform\n",
    "+ 100% isopropanol\n",
    "+ ethanol\n",
    "+ RNase free water\n",
    "+ hood\n",
    "+ vortex\n",
    "+ centrifuge\n",
    "+ p1000 pipette\n",
    "+ heat block"
   ]
  },
  {
   "cell_type": "markdown",
   "metadata": {},
   "source": [
    "## Procedure"
   ]
  },
  {
   "cell_type": "markdown",
   "metadata": {},
   "source": [
    "### Homogenization\n",
    "In the hood: Add 1mL TRIzol to the cell pellet and pipet up and down. Incubate at room temp for 5 minutes.\n",
    "\n",
    "###   Phase seperation\n",
    "1. In the hood: Add 200$\\mu $L chloroform. Vortex the tube for 15 seconds.\n",
    "2. Incubate 2-3 minutes\n",
    "3. Transfer contents to 1.5mL centrifuge tube.\n",
    "3. Centrifuge  at 12,000 x g for 15 minutes at 4&degC\n",
    "    + The sample will seperate in to three layers. The RNA is in the clear aqeous solution\n",
    "4. In the hood: Remove the aqueous phase of the sample by angling the tube at 45&degC and pipetting the solution out, place into a new 1.5ml microfuge tube. Avoid drawing the other layers.\n",
    "\n",
    "\n",
    "### RNA precipitation  \n",
    "1. Add 0.5mL of 100% isopropanol to the aqueous phase and mix. Incubate at room temperature for 10 minutes.\n",
    "2. Centrifuge at 12,000 x g for 10 minutes at 4&degC.\n",
    "3. Remove the supernatant from the tube, leaving only the RNA pellet\n",
    "4. Wash the pellet: add 1mL 75% ethanol.\n",
    "5. Vortex the sample briefly, then centrifuge the tube at 7500 x g for 5 minutes at 4&degC. Discard the wash.\n",
    "6. Air dry the RNA pellet for 5-10 minutes, depending on how much EtOH remains.\n",
    "    + Don't allow it to dry completely\n",
    "\n",
    "### RNA resuspension\n",
    "1. Resuspend the RNA pellet in 30$\\mu $L RNase-free water by vortexing.\n",
    "2. Incubate in heat block set at 60&degC for 10 minutes\n",
    "\n",
    "Freeze RNA at -20&degC overnight.\n"
   ]
  },
  {
   "cell_type": "markdown",
   "metadata": {},
   "source": [
    "$\n",
    "\\begin{array}{ccccccccc} \\hline\n",
    "p2 &1(g) &2(g) &3(g) &Avg.\\ M(g) &Exp.\\ V(\\mu L) &Act.\\ V(\\mu L) &Stdev &\\%Err.\\\\ \\hline\n",
    "10\\% &0.0003 &0.0002 &0.0003 &0.0003 &0.100 &0.300 &0.0000 &200\\\\ \\hline\n",
    "50\\% &0.0011 &0.0012 &0.0010 &0.0011 &1.000 &1.100 &0.0000 &10\\\\ \\hline\n",
    "\\end{array}  \n",
    "$  \n",
    "\n",
    "$\n",
    "\\begin{array}{ccccccccc} \\hline\n",
    "p20 &1(g) &2(g) &3(g) &Avg.\\ M(g) &Exp.\\ V(\\mu L) &Act.\\ V(\\mu L) &Stdev &\\%Err.\\\\ \\hline\n",
    "10\\% &0.0022 &0.0022 &0.0022 &0.0022 &2.00 &2.20 &0.0000 &10\\\\ \\hline\n",
    "50\\% &0.0096 &0.0096 &0.0096 &0.0096 &10.00 &9.600 &0.0000 &4.0\\\\ \\hline\n",
    "\\end{array}  \n",
    "$  \n",
    "\n",
    "$\n",
    "\\begin{array}{ccccccccc} \\hline\n",
    "p200 &1(g) &2(g) &3(g) &Avg.\\ M(g) &Exp.\\ V(\\mu L) &Act.\\ V(\\mu L) &Stdev &\\%Err.\\\\ \\hline\n",
    "10\\% &0.0201 &0.0205 &0.0205 &0.0204 &20.0 &20.40 &0.0002 &2.0\\\\ \\hline\n",
    "50\\% &0.0994 &0.0991 &0.0989 &0.0991 &100.0 &99.10 &0.0002 &0.90\\\\ \\hline\n",
    "\\end{array}  \n",
    "$  \n",
    "\n",
    "$\n",
    "\\begin{array}{ccccccccc} \\hline\n",
    "p1000 &1(g) &2(g) &3(g) &Avg.\\ M(g) &Exp.\\ V(\\mu L) &Act.\\ V(\\mu L) &Stdev &\\%Err.\\\\ \\hline\n",
    "10\\% &0.0990 &0.0994 &0.0993 &0.0992 &100.0 &99.20 &0.0002 &0.80\\\\ \\hline\n",
    "50\\% &0.4969 &0.5054 &0.4971 &0.4998 &500.0 &499.8 &0.0040 &0.04\\\\ \\hline\n",
    "\\end{array}  \n",
    "$  \n"
   ]
  },
  {
   "cell_type": "markdown",
   "metadata": {},
   "source": [
    "# Part B\n",
    "### RNA Detection Methods\n",
    "---"
   ]
  },
  {
   "cell_type": "markdown",
   "metadata": {
    "heading_collapsed": true
   },
   "source": [
    "## Materials/Equipment"
   ]
  },
  {
   "cell_type": "markdown",
   "metadata": {
    "hidden": true
   },
   "source": [
    "+ Trizol\n",
    "+ RNA pellet\n",
    "+ chloroform\n",
    "+ 100% isopropanol\n",
    "+ ethanol\n",
    "+ RNase free water\n",
    "+ hood\n",
    "+ vortex\n",
    "+ centrifuge\n",
    "+ p1000 pipette\n",
    "+ heat block"
   ]
  },
  {
   "cell_type": "markdown",
   "metadata": {
    "heading_collapsed": true
   },
   "source": [
    "## Procedure"
   ]
  },
  {
   "cell_type": "markdown",
   "metadata": {
    "hidden": true
   },
   "source": [
    "### Agarose gel electrophoresis\n",
    "2. Add 5$\\mu$L of ladder to a well on either side of the gel.\n",
    "1. Mix 1$\\mu$L RNA 4$\\mu$L water, 5$\\mu$L of dye and add to a well on the gel.\n",
    "3. Run the gel until the bromophenol blue reaches 2/3 the length of the gel.\n",
    "4. Add ~50mL SYBR II RNA dye stain diluted 1:10000 in 1xTAE buffer to the gel and incubate for 10 minutes protected from light using foil. \n",
    "\n",
    "###   Nanopore\n",
    "1. Measure the absorbance at 260nm.\n",
    "2. Save this information.\n",
    "\n",
    "\n",
    "### Qubit fluorometer\n",
    "1. Pepeare the working solution by adding 5$\\mu$L reagent to 995$\\mu$L\n",
    "2. Create a high and low standard and calibrate the machine\n",
    "3. Add 20$\\mu$L of RNA to 180$\\mu$L of working solution for a 1:10 dilution.\n",
    "4. Read the concentration.\n",
    " \n",
    "\n"
   ]
  },
  {
   "cell_type": "markdown",
   "metadata": {},
   "source": [
    "## Results"
   ]
  },
  {
   "cell_type": "markdown",
   "metadata": {},
   "source": [
    "$\n",
    "\\mathbf{Nanodrop}  \n",
    "\\begin{array}{r|l}\n",
    "RNA\\ conc. &3419.9\\\\ \n",
    "A260 &85.497\\\\ \n",
    "A280 &48.802\\\\ \n",
    "A260/A280 &1.75\\\\ \n",
    "A260/A230 &1.93\\\\ \n",
    "\\end{array}\n",
    "$\n",
    "___\n",
    "\n",
    "$\n",
    "\\mathbf{Qubit}\n",
    "\\begin{array}{r|l}\n",
    "RNA\\ conc. &340 ng/mL\\\\\n",
    "\\end{array}\n",
    "$"
   ]
  },
  {
   "cell_type": "markdown",
   "metadata": {},
   "source": [
    "## Write-up questions"
   ]
  },
  {
   "cell_type": "markdown",
   "metadata": {},
   "source": [
    "1. ***Extraction protocol:***\n",
    "    1. ***How does a TRIzol extraction work?***  \n",
    "        TRIzol is a solution of phenol and guanidinium isothiocyanate that solubilizes biological material and denatures protein simultaneously. After solubilization, the addition of chloroform causes phase separation. Protein is extracted to the organic phase, DNA resolves at the interface, and RNA remains in the aqueous phase\n",
    "    2. ***Is there DNA present in your sample at the end? How could you get rid of the DNA?***\n",
    "        A small amount of DNA was present. I could treat the mixed RNA/DNA with a DNase treatment.\n",
    "2. ***Alcohol precipiation:***  \n",
    "    1. ***Why did you wash your RNA pellet during your alcohol precipitation?***  \n",
    "        To rinse any lingering supernatant and to remove salt and polysaccharids.\n",
    "    1. ***What is the purpose of the salt for the alcohol precipiatation?***  \n",
    "        We did not add salt during this step. It is optional. The salt forces the precipitation of nucleic acids out of solution. The salt neutralizes the charges on the sugar phosphate backbone. A commonly used salt is sodium acetate. In solution, sodium acetate breaks up into Na+ and [CH3COO]-. The positively charged sodium ions neutralize the negative charge on the PO3- groups on the nucleic acids, making the molecule far less hydrophilic, and therefore much less soluble in water.\n",
    "    1. ***List 3 ways to increase the yield during an RNA alcohol precipitation when precipitating very small quantities of RNA.***  \n",
    "        --Ensure good shearing of the genomic DNA and release of RNA from all cells  \n",
    "        --Perform the phase seperation step again  \n",
    "        --Use a greater volume of TRIzol\n",
    "3. ***RNA Quantitation***\n",
    "    1. ***Which of these methods give the best estimate of RNA quality?***\n",
    "        The absorbance test performed on the nanodrop gave the best estimate of RNA quality\n",
    "    1. ***Which of these methods give the best estimate of concentration?***\n",
    "        The Qubit gave the best estimate of concentration.\n",
    "4. ***What is the difference between using absorbance at 260nm and the Qubit?***\n",
    "    The Nanodrop measures the amount of photons absorbed after it passes through a solution. It is sensitive to every molecule in the solution. With the Qubit, fluorescent agents are attached to the RNA. The device measures quantifies the concentration based on the intensity of these fluorescent agents.\n",
    "5. ***Why would you run a denaturing gel electrophorseis instead of a native?***\n",
    "    A denaturing gel allows for more accurate size comparison as after denaturing, we are left with mostly linear molecules. \n",
    "6. ***How can a spectrophotometer be used to obtain your [RNA]?***\n",
    "    Concentration a absorbance have a linear realtionship. The concentration can be be determined utilizing the Lambert-Beer law.\n",
    "7. ***Does your RNA fit the description of \"high quality\" RNA? Why or why not?***\n",
    "    "
   ]
  },
  {
   "cell_type": "code",
   "execution_count": null,
   "metadata": {
    "collapsed": true
   },
   "outputs": [],
   "source": []
  }
 ],
 "metadata": {
  "kernelspec": {
   "display_name": "Python 3",
   "language": "python",
   "name": "python3"
  },
  "language_info": {
   "codemirror_mode": {
    "name": "ipython",
    "version": 3
   },
   "file_extension": ".py",
   "mimetype": "text/x-python",
   "name": "python",
   "nbconvert_exporter": "python",
   "pygments_lexer": "ipython3",
   "version": "3.6.1"
  },
  "toc": {
   "colors": {
    "hover_highlight": "#DAA520",
    "navigate_num": "#000000",
    "navigate_text": "#333333",
    "running_highlight": "#FF0000",
    "selected_highlight": "#FFD700",
    "sidebar_border": "#EEEEEE",
    "wrapper_background": "#FFFFFF"
   },
   "moveMenuLeft": true,
   "nav_menu": {
    "height": "119px",
    "width": "252px"
   },
   "navigate_menu": true,
   "number_sections": true,
   "sideBar": false,
   "threshold": "2",
   "toc_cell": false,
   "toc_position": {
    "height": "315px",
    "left": "2px",
    "right": "20px",
    "top": "190px",
    "width": "212px"
   },
   "toc_section_display": "block",
   "toc_window_display": true,
   "widenNotebook": false
  }
 },
 "nbformat": 4,
 "nbformat_minor": 2
}
